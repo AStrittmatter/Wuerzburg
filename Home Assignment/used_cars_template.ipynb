{
 "cells": [
  {
   "cell_type": "markdown",
   "metadata": {},
   "source": [
    "#  Used Car Dealer"
   ]
  },
  {
   "cell_type": "markdown",
   "metadata": {},
   "source": [
    "**Author:**\n",
    "[Anthony Strittmatter](http://www.anthonystrittmatter.com)"
   ]
  },
  {
   "cell_type": "markdown",
   "metadata": {},
   "source": [
    "You take the role of a used car dealer. You have a database with prices and characteristics of used cars you sold previously (*use\\_car\\_database.csv*). You want to use this data to predict the prices of the used cars that are currently in your garage. For these cars you have a data set containing the characteristics (*new\\_used\\_cars.csv*), but not the prices. The characteristics that you observe in the data sets are described in the file *variable\\_description.xlsx*.\n",
    "\n",
    "Your task is to predict the used car prices of the used cars that are currently in your garage using any method of your choice."
   ]
  },
  {
   "cell_type": "markdown",
   "metadata": {},
   "source": [
    "## Load Packages and Data"
   ]
  },
  {
   "cell_type": "code",
   "execution_count": 1,
   "metadata": {},
   "outputs": [
    {
     "name": "stderr",
     "output_type": "stream",
     "text": [
      "Warning message:\n",
      "\"package 'rpart.plot' was built under R version 3.6.3\"Warning message:\n",
      "\"package 'grf' was built under R version 3.6.3\"Warning message:\n",
      "\"package 'glmnet' was built under R version 3.6.3\"Loading required package: Matrix\n",
      "Loaded glmnet 4.1-1\n"
     ]
    },
    {
     "name": "stdout",
     "output_type": "stream",
     "text": [
      "[1] \"Packages and data successfully loaded.\"\n"
     ]
    }
   ],
   "source": [
    "########################  Load Packages and Data  ########################\n",
    "\n",
    "# Load packages\n",
    "library(rpart)\n",
    "library(rpart.plot)\n",
    "library(grf)\n",
    "library(glmnet)\n",
    "library(nnet)\n",
    "\n",
    "# Load data\n",
    "cars <- read.csv(\"used_car_database.csv\", sep = \",\")\n",
    "new_cars <- read.csv(\"new_used_cars.csv\", sep = \",\")\n",
    "\n",
    "print('Packages and data successfully loaded.')\n",
    "\n",
    "#############################################################################"
   ]
  },
  {
   "cell_type": "markdown",
   "metadata": {},
   "source": [
    "## Inspect Data"
   ]
  },
  {
   "cell_type": "code",
   "execution_count": 2,
   "metadata": {},
   "outputs": [
    {
     "data": {
      "text/html": [
       "<table>\n",
       "<thead><tr><th scope=col>id</th><th scope=col>sales_price</th><th scope=col>mercedes_c</th><th scope=col>vw_golf</th><th scope=col>vw_passat</th><th scope=col>bmw_320</th><th scope=col>opel_astra</th><th scope=col>diesel</th><th scope=col>other_car_owner</th><th scope=col>pm_green</th><th scope=col>...</th><th scope=col>mile_40</th><th scope=col>mile_50</th><th scope=col>mile_100</th><th scope=col>mile_150</th><th scope=col>mileage</th><th scope=col>mileage2</th><th scope=col>age_3</th><th scope=col>age_6</th><th scope=col>age_car_years</th><th scope=col>age_car_years2</th></tr></thead>\n",
       "<tbody>\n",
       "\t<tr><td>52927    </td><td>12.060   </td><td>0        </td><td>0        </td><td>1        </td><td>0        </td><td>0        </td><td>1        </td><td>2        </td><td>1        </td><td>...      </td><td>1        </td><td>1        </td><td>1        </td><td>0        </td><td>149.000  </td><td>22201.000</td><td>1        </td><td>1        </td><td>9.0      </td><td>81.00    </td></tr>\n",
       "\t<tr><td>49185    </td><td>21.121   </td><td>0        </td><td>0        </td><td>1        </td><td>0        </td><td>0        </td><td>1        </td><td>1        </td><td>1        </td><td>...      </td><td>1        </td><td>0        </td><td>0        </td><td>0        </td><td> 42.000  </td><td> 1764.000</td><td>0        </td><td>0        </td><td>1.2      </td><td> 1.44    </td></tr>\n",
       "\t<tr><td>64639    </td><td>31.700   </td><td>0        </td><td>0        </td><td>0        </td><td>1        </td><td>0        </td><td>0        </td><td>1        </td><td>1        </td><td>...      </td><td>0        </td><td>0        </td><td>0        </td><td>0        </td><td> 14.300  </td><td>  204.490</td><td>0        </td><td>0        </td><td>1.7      </td><td> 2.89    </td></tr>\n",
       "\t<tr><td>11372    </td><td>14.240   </td><td>1        </td><td>0        </td><td>0        </td><td>0        </td><td>0        </td><td>0        </td><td>2        </td><td>1        </td><td>...      </td><td>1        </td><td>1        </td><td>0        </td><td>0        </td><td> 56.161  </td><td> 3154.058</td><td>1        </td><td>1        </td><td>6.4      </td><td>40.96    </td></tr>\n",
       "\t<tr><td> 7593    </td><td>20.350   </td><td>0        </td><td>0        </td><td>1        </td><td>0        </td><td>0        </td><td>1        </td><td>1        </td><td>1        </td><td>...      </td><td>1        </td><td>1        </td><td>1        </td><td>0        </td><td>101.482  </td><td>10298.596</td><td>1        </td><td>0        </td><td>4.3      </td><td>18.49    </td></tr>\n",
       "\t<tr><td>89992    </td><td>11.679   </td><td>0        </td><td>1        </td><td>0        </td><td>0        </td><td>0        </td><td>0        </td><td>2        </td><td>1        </td><td>...      </td><td>1        </td><td>1        </td><td>0        </td><td>0        </td><td> 71.544  </td><td> 5118.544</td><td>1        </td><td>1        </td><td>7.0      </td><td>49.00    </td></tr>\n",
       "</tbody>\n",
       "</table>\n"
      ],
      "text/latex": [
       "\\begin{tabular}{r|llllllllllllllllllllllllllll}\n",
       " id & sales\\_price & mercedes\\_c & vw\\_golf & vw\\_passat & bmw\\_320 & opel\\_astra & diesel & other\\_car\\_owner & pm\\_green & ... & mile\\_40 & mile\\_50 & mile\\_100 & mile\\_150 & mileage & mileage2 & age\\_3 & age\\_6 & age\\_car\\_years & age\\_car\\_years2\\\\\n",
       "\\hline\n",
       "\t 52927     & 12.060    & 0         & 0         & 1         & 0         & 0         & 1         & 2         & 1         & ...       & 1         & 1         & 1         & 0         & 149.000   & 22201.000 & 1         & 1         & 9.0       & 81.00    \\\\\n",
       "\t 49185     & 21.121    & 0         & 0         & 1         & 0         & 0         & 1         & 1         & 1         & ...       & 1         & 0         & 0         & 0         &  42.000   &  1764.000 & 0         & 0         & 1.2       &  1.44    \\\\\n",
       "\t 64639     & 31.700    & 0         & 0         & 0         & 1         & 0         & 0         & 1         & 1         & ...       & 0         & 0         & 0         & 0         &  14.300   &   204.490 & 0         & 0         & 1.7       &  2.89    \\\\\n",
       "\t 11372     & 14.240    & 1         & 0         & 0         & 0         & 0         & 0         & 2         & 1         & ...       & 1         & 1         & 0         & 0         &  56.161   &  3154.058 & 1         & 1         & 6.4       & 40.96    \\\\\n",
       "\t  7593     & 20.350    & 0         & 0         & 1         & 0         & 0         & 1         & 1         & 1         & ...       & 1         & 1         & 1         & 0         & 101.482   & 10298.596 & 1         & 0         & 4.3       & 18.49    \\\\\n",
       "\t 89992     & 11.679    & 0         & 1         & 0         & 0         & 0         & 0         & 2         & 1         & ...       & 1         & 1         & 0         & 0         &  71.544   &  5118.544 & 1         & 1         & 7.0       & 49.00    \\\\\n",
       "\\end{tabular}\n"
      ],
      "text/markdown": [
       "\n",
       "| id | sales_price | mercedes_c | vw_golf | vw_passat | bmw_320 | opel_astra | diesel | other_car_owner | pm_green | ... | mile_40 | mile_50 | mile_100 | mile_150 | mileage | mileage2 | age_3 | age_6 | age_car_years | age_car_years2 |\n",
       "|---|---|---|---|---|---|---|---|---|---|---|---|---|---|---|---|---|---|---|---|---|\n",
       "| 52927     | 12.060    | 0         | 0         | 1         | 0         | 0         | 1         | 2         | 1         | ...       | 1         | 1         | 1         | 0         | 149.000   | 22201.000 | 1         | 1         | 9.0       | 81.00     |\n",
       "| 49185     | 21.121    | 0         | 0         | 1         | 0         | 0         | 1         | 1         | 1         | ...       | 1         | 0         | 0         | 0         |  42.000   |  1764.000 | 0         | 0         | 1.2       |  1.44     |\n",
       "| 64639     | 31.700    | 0         | 0         | 0         | 1         | 0         | 0         | 1         | 1         | ...       | 0         | 0         | 0         | 0         |  14.300   |   204.490 | 0         | 0         | 1.7       |  2.89     |\n",
       "| 11372     | 14.240    | 1         | 0         | 0         | 0         | 0         | 0         | 2         | 1         | ...       | 1         | 1         | 0         | 0         |  56.161   |  3154.058 | 1         | 1         | 6.4       | 40.96     |\n",
       "|  7593     | 20.350    | 0         | 0         | 1         | 0         | 0         | 1         | 1         | 1         | ...       | 1         | 1         | 1         | 0         | 101.482   | 10298.596 | 1         | 0         | 4.3       | 18.49     |\n",
       "| 89992     | 11.679    | 0         | 1         | 0         | 0         | 0         | 0         | 2         | 1         | ...       | 1         | 1         | 0         | 0         |  71.544   |  5118.544 | 1         | 1         | 7.0       | 49.00     |\n",
       "\n"
      ],
      "text/plain": [
       "  id    sales_price mercedes_c vw_golf vw_passat bmw_320 opel_astra diesel\n",
       "1 52927 12.060      0          0       1         0       0          1     \n",
       "2 49185 21.121      0          0       1         0       0          1     \n",
       "3 64639 31.700      0          0       0         1       0          0     \n",
       "4 11372 14.240      1          0       0         0       0          0     \n",
       "5  7593 20.350      0          0       1         0       0          1     \n",
       "6 89992 11.679      0          1       0         0       0          0     \n",
       "  other_car_owner pm_green ... mile_40 mile_50 mile_100 mile_150 mileage\n",
       "1 2               1        ... 1       1       1        0        149.000\n",
       "2 1               1        ... 1       0       0        0         42.000\n",
       "3 1               1        ... 0       0       0        0         14.300\n",
       "4 2               1        ... 1       1       0        0         56.161\n",
       "5 1               1        ... 1       1       1        0        101.482\n",
       "6 2               1        ... 1       1       0        0         71.544\n",
       "  mileage2  age_3 age_6 age_car_years age_car_years2\n",
       "1 22201.000 1     1     9.0           81.00         \n",
       "2  1764.000 0     0     1.2            1.44         \n",
       "3   204.490 0     0     1.7            2.89         \n",
       "4  3154.058 1     1     6.4           40.96         \n",
       "5 10298.596 1     0     4.3           18.49         \n",
       "6  5118.544 1     1     7.0           49.00         "
      ]
     },
     "metadata": {},
     "output_type": "display_data"
    },
    {
     "name": "stdout",
     "output_type": "stream",
     "text": [
      "[1] \"Old data: 48976 observations\"\n"
     ]
    }
   ],
   "source": [
    "########################  Describe Old Data  ########################\n",
    "\n",
    "# Print first few rows of old data\n",
    "head(cars)\n",
    "\n",
    "# Number of observations\n",
    "print(paste0('Old data: ',nrow(cars),' observations'))\n",
    "\n",
    "######################################################################"
   ]
  },
  {
   "cell_type": "code",
   "execution_count": 3,
   "metadata": {},
   "outputs": [
    {
     "data": {
      "text/html": [
       "<table>\n",
       "<thead><tr><th scope=col>id</th><th scope=col>mercedes_c</th><th scope=col>vw_golf</th><th scope=col>vw_passat</th><th scope=col>bmw_320</th><th scope=col>opel_astra</th><th scope=col>diesel</th><th scope=col>other_car_owner</th><th scope=col>pm_green</th><th scope=col>private_seller</th><th scope=col>...</th><th scope=col>mile_40</th><th scope=col>mile_50</th><th scope=col>mile_100</th><th scope=col>mile_150</th><th scope=col>mileage</th><th scope=col>mileage2</th><th scope=col>age_3</th><th scope=col>age_6</th><th scope=col>age_car_years</th><th scope=col>age_car_years2</th></tr></thead>\n",
       "<tbody>\n",
       "\t<tr><td>104720    </td><td>0         </td><td>1         </td><td>0         </td><td>0         </td><td>0         </td><td>0         </td><td>0         </td><td>0         </td><td>1         </td><td>...       </td><td>1         </td><td>0         </td><td>0         </td><td>0         </td><td> 40.000   </td><td> 1600.0000</td><td>0         </td><td>0         </td><td>2.5       </td><td> 6.25     </td></tr>\n",
       "\t<tr><td> 32761    </td><td>0         </td><td>0         </td><td>1         </td><td>0         </td><td>0         </td><td>1         </td><td>0         </td><td>0         </td><td>1         </td><td>...       </td><td>1         </td><td>1         </td><td>1         </td><td>0         </td><td>139.800   </td><td>19544.0400</td><td>1         </td><td>0         </td><td>5.7       </td><td>32.49     </td></tr>\n",
       "\t<tr><td> 32601    </td><td>0         </td><td>0         </td><td>1         </td><td>0         </td><td>0         </td><td>0         </td><td>0         </td><td>1         </td><td>0         </td><td>...       </td><td>1         </td><td>1         </td><td>1         </td><td>0         </td><td>134.000   </td><td>17956.0000</td><td>1         </td><td>1         </td><td>8.9       </td><td>79.21     </td></tr>\n",
       "\t<tr><td> 53732    </td><td>0         </td><td>0         </td><td>1         </td><td>0         </td><td>0         </td><td>1         </td><td>2         </td><td>1         </td><td>0         </td><td>...       </td><td>0         </td><td>0         </td><td>0         </td><td>0         </td><td> 34.850   </td><td> 1214.5225</td><td>0         </td><td>0         </td><td>1.6       </td><td> 2.56     </td></tr>\n",
       "\t<tr><td>  3655    </td><td>0         </td><td>1         </td><td>0         </td><td>0         </td><td>0         </td><td>1         </td><td>1         </td><td>1         </td><td>0         </td><td>...       </td><td>1         </td><td>1         </td><td>0         </td><td>0         </td><td> 90.142   </td><td> 8125.5802</td><td>1         </td><td>0         </td><td>4.9       </td><td>24.01     </td></tr>\n",
       "\t<tr><td> 98140    </td><td>1         </td><td>0         </td><td>0         </td><td>0         </td><td>0         </td><td>1         </td><td>1         </td><td>1         </td><td>0         </td><td>...       </td><td>0         </td><td>0         </td><td>0         </td><td>0         </td><td> 31.299   </td><td>  979.6274</td><td>0         </td><td>0         </td><td>1.2       </td><td> 1.44     </td></tr>\n",
       "</tbody>\n",
       "</table>\n"
      ],
      "text/latex": [
       "\\begin{tabular}{r|lllllllllllllllllllllllllll}\n",
       " id & mercedes\\_c & vw\\_golf & vw\\_passat & bmw\\_320 & opel\\_astra & diesel & other\\_car\\_owner & pm\\_green & private\\_seller & ... & mile\\_40 & mile\\_50 & mile\\_100 & mile\\_150 & mileage & mileage2 & age\\_3 & age\\_6 & age\\_car\\_years & age\\_car\\_years2\\\\\n",
       "\\hline\n",
       "\t 104720     & 0          & 1          & 0          & 0          & 0          & 0          & 0          & 0          & 1          & ...        & 1          & 0          & 0          & 0          &  40.000    &  1600.0000 & 0          & 0          & 2.5        &  6.25     \\\\\n",
       "\t  32761     & 0          & 0          & 1          & 0          & 0          & 1          & 0          & 0          & 1          & ...        & 1          & 1          & 1          & 0          & 139.800    & 19544.0400 & 1          & 0          & 5.7        & 32.49     \\\\\n",
       "\t  32601     & 0          & 0          & 1          & 0          & 0          & 0          & 0          & 1          & 0          & ...        & 1          & 1          & 1          & 0          & 134.000    & 17956.0000 & 1          & 1          & 8.9        & 79.21     \\\\\n",
       "\t  53732     & 0          & 0          & 1          & 0          & 0          & 1          & 2          & 1          & 0          & ...        & 0          & 0          & 0          & 0          &  34.850    &  1214.5225 & 0          & 0          & 1.6        &  2.56     \\\\\n",
       "\t   3655     & 0          & 1          & 0          & 0          & 0          & 1          & 1          & 1          & 0          & ...        & 1          & 1          & 0          & 0          &  90.142    &  8125.5802 & 1          & 0          & 4.9        & 24.01     \\\\\n",
       "\t  98140     & 1          & 0          & 0          & 0          & 0          & 1          & 1          & 1          & 0          & ...        & 0          & 0          & 0          & 0          &  31.299    &   979.6274 & 0          & 0          & 1.2        &  1.44     \\\\\n",
       "\\end{tabular}\n"
      ],
      "text/markdown": [
       "\n",
       "| id | mercedes_c | vw_golf | vw_passat | bmw_320 | opel_astra | diesel | other_car_owner | pm_green | private_seller | ... | mile_40 | mile_50 | mile_100 | mile_150 | mileage | mileage2 | age_3 | age_6 | age_car_years | age_car_years2 |\n",
       "|---|---|---|---|---|---|---|---|---|---|---|---|---|---|---|---|---|---|---|---|---|\n",
       "| 104720     | 0          | 1          | 0          | 0          | 0          | 0          | 0          | 0          | 1          | ...        | 1          | 0          | 0          | 0          |  40.000    |  1600.0000 | 0          | 0          | 2.5        |  6.25      |\n",
       "|  32761     | 0          | 0          | 1          | 0          | 0          | 1          | 0          | 0          | 1          | ...        | 1          | 1          | 1          | 0          | 139.800    | 19544.0400 | 1          | 0          | 5.7        | 32.49      |\n",
       "|  32601     | 0          | 0          | 1          | 0          | 0          | 0          | 0          | 1          | 0          | ...        | 1          | 1          | 1          | 0          | 134.000    | 17956.0000 | 1          | 1          | 8.9        | 79.21      |\n",
       "|  53732     | 0          | 0          | 1          | 0          | 0          | 1          | 2          | 1          | 0          | ...        | 0          | 0          | 0          | 0          |  34.850    |  1214.5225 | 0          | 0          | 1.6        |  2.56      |\n",
       "|   3655     | 0          | 1          | 0          | 0          | 0          | 1          | 1          | 1          | 0          | ...        | 1          | 1          | 0          | 0          |  90.142    |  8125.5802 | 1          | 0          | 4.9        | 24.01      |\n",
       "|  98140     | 1          | 0          | 0          | 0          | 0          | 1          | 1          | 1          | 0          | ...        | 0          | 0          | 0          | 0          |  31.299    |   979.6274 | 0          | 0          | 1.2        |  1.44      |\n",
       "\n"
      ],
      "text/plain": [
       "  id     mercedes_c vw_golf vw_passat bmw_320 opel_astra diesel other_car_owner\n",
       "1 104720 0          1       0         0       0          0      0              \n",
       "2  32761 0          0       1         0       0          1      0              \n",
       "3  32601 0          0       1         0       0          0      0              \n",
       "4  53732 0          0       1         0       0          1      2              \n",
       "5   3655 0          1       0         0       0          1      1              \n",
       "6  98140 1          0       0         0       0          1      1              \n",
       "  pm_green private_seller ... mile_40 mile_50 mile_100 mile_150 mileage\n",
       "1 0        1              ... 1       0       0        0         40.000\n",
       "2 0        1              ... 1       1       1        0        139.800\n",
       "3 1        0              ... 1       1       1        0        134.000\n",
       "4 1        0              ... 0       0       0        0         34.850\n",
       "5 1        0              ... 1       1       0        0         90.142\n",
       "6 1        0              ... 0       0       0        0         31.299\n",
       "  mileage2   age_3 age_6 age_car_years age_car_years2\n",
       "1  1600.0000 0     0     2.5            6.25         \n",
       "2 19544.0400 1     0     5.7           32.49         \n",
       "3 17956.0000 1     1     8.9           79.21         \n",
       "4  1214.5225 0     0     1.6            2.56         \n",
       "5  8125.5802 1     0     4.9           24.01         \n",
       "6   979.6274 0     0     1.2            1.44         "
      ]
     },
     "metadata": {},
     "output_type": "display_data"
    },
    {
     "name": "stdout",
     "output_type": "stream",
     "text": [
      "[1] \"New data: 1024 observations\"\n"
     ]
    }
   ],
   "source": [
    "########################  Describe Old Data  ########################\n",
    "\n",
    "# Print first few rows of new data\n",
    "head(new_cars)\n",
    "\n",
    "# Number of observations\n",
    "print(paste0('New data: ',nrow(new_cars),' observations'))\n",
    "\n",
    "######################################################################"
   ]
  },
  {
   "cell_type": "markdown",
   "metadata": {},
   "source": [
    "## Prepare Data"
   ]
  },
  {
   "cell_type": "code",
   "execution_count": 4,
   "metadata": {},
   "outputs": [
    {
     "name": "stdout",
     "output_type": "stream",
     "text": [
      "[1] \"Data is prepared.\"\n"
     ]
    }
   ],
   "source": [
    "########################  Data Preparation  ########################\n",
    "\n",
    "# Generate outcome and control variables\n",
    "y <- as.matrix(cars[,2])\n",
    "x <- as.matrix(cars[,-c(1:2)])\n",
    "new_x <- as.matrix(new_cars[,-1])\n",
    "\n",
    "print('Data is prepared.')\n",
    "\n",
    "#############################################################################"
   ]
  },
  {
   "cell_type": "markdown",
   "metadata": {},
   "source": [
    "**$\\Rightarrow$ It is possible to add non-linear and interaction terms.**"
   ]
  },
  {
   "cell_type": "markdown",
   "metadata": {},
   "source": [
    "## Generate Training and Test Sample"
   ]
  },
  {
   "cell_type": "code",
   "execution_count": 26,
   "metadata": {},
   "outputs": [
    {
     "name": "stdout",
     "output_type": "stream",
     "text": [
      "[1] \"Training and test samples created.\"\n"
     ]
    }
   ],
   "source": [
    "########################  Training and Test Samples  ########################\n",
    "\n",
    "set.seed(???)\n",
    "\n",
    "# Generate variable with the rows in training data\n",
    "???\n",
    "\n",
    "print('Training and test samples created.')\n",
    "\n",
    "#############################################################################"
   ]
  },
  {
   "cell_type": "markdown",
   "metadata": {},
   "source": [
    "## Predict Orange Juice Prices in Training Sample and Assess Model in Test Sample"
   ]
  },
  {
   "cell_type": "markdown",
   "metadata": {},
   "source": [
    "### Lasso, Ridge, Elastic Net"
   ]
  },
  {
   "cell_type": "code",
   "execution_count": 27,
   "metadata": {},
   "outputs": [
    {
     "name": "stdout",
     "output_type": "stream",
     "text": [
      "[1] \"R-squared Penalized Regression: 0.781\"\n"
     ]
    }
   ],
   "source": [
    "########################  LASSO, Ridge, Elastic Net  ##############################\n",
    "\n",
    "\n",
    "                                   \n",
    "################################################################"
   ]
  },
  {
   "cell_type": "markdown",
   "metadata": {},
   "source": [
    "### Tree"
   ]
  },
  {
   "cell_type": "code",
   "execution_count": 28,
   "metadata": {},
   "outputs": [
    {
     "name": "stdout",
     "output_type": "stream",
     "text": [
      "[1] \"R-squared Tree: 0.849\"\n"
     ]
    }
   ],
   "source": [
    "######################  Regression Tree  #######################\n",
    "\n",
    "\n",
    "\n",
    "################################################################"
   ]
  },
  {
   "cell_type": "markdown",
   "metadata": {},
   "source": [
    "### Random Forest"
   ]
  },
  {
   "cell_type": "code",
   "execution_count": 29,
   "metadata": {},
   "outputs": [
    {
     "name": "stdout",
     "output_type": "stream",
     "text": [
      "[1] \"R-squared Forest: 0.876\"\n"
     ]
    }
   ],
   "source": [
    "########################  Random Forest  #######################\n",
    "\n",
    "\n",
    "################################################################"
   ]
  },
  {
   "cell_type": "markdown",
   "metadata": {},
   "source": [
    "## Select Favorite Model and Extrapolate to New Data"
   ]
  },
  {
   "cell_type": "code",
   "execution_count": 30,
   "metadata": {},
   "outputs": [
    {
     "name": "stdout",
     "output_type": "stream",
     "text": [
      "[1] \"Out-of-sample sales are predicted.\"\n"
     ]
    }
   ],
   "source": [
    "########################  Out-of-Sample Prediction  #######################\n",
    "\n",
    "# Fitted values\n",
    "new_prediction <- ???\n",
    "\n",
    "print('Out-of-sample sales are predicted.')\n",
    "\n",
    "###########################################################################"
   ]
  },
  {
   "cell_type": "markdown",
   "metadata": {},
   "source": [
    "## Store Out-of-Sample Predictions"
   ]
  },
  {
   "cell_type": "code",
   "execution_count": 32,
   "metadata": {},
   "outputs": [
    {
     "name": "stdout",
     "output_type": "stream",
     "text": [
      "[1] \"File is stored.\"\n",
      "[1] \"Send your results to anthony.strittmatter@ensae.fr\"\n"
     ]
    }
   ],
   "source": [
    "########################  Store Results  #######################\n",
    "\n",
    "id_new <- as.matrix(new_cars$id)\n",
    "\n",
    "# Replace ??? with your name\n",
    "write.csv(cbind(id_new,new_prediction),\"???.csv\")\n",
    "\n",
    "print('File is stored.')\n",
    "print('Send your results to anthony.strittmatter@ensae.fr')\n",
    "\n",
    "################################################################"
   ]
  },
  {
   "cell_type": "code",
   "execution_count": null,
   "metadata": {},
   "outputs": [],
   "source": []
  }
 ],
 "metadata": {
  "kernelspec": {
   "display_name": "R",
   "language": "R",
   "name": "ir"
  },
  "language_info": {
   "codemirror_mode": "r",
   "file_extension": ".r",
   "mimetype": "text/x-r-source",
   "name": "R",
   "pygments_lexer": "r",
   "version": "3.6.1"
  }
 },
 "nbformat": 4,
 "nbformat_minor": 4
}
