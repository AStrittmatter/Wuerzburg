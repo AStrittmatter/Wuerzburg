{
 "cells": [
  {
   "cell_type": "markdown",
   "metadata": {},
   "source": [
    "#  Classification"
   ]
  },
  {
   "cell_type": "markdown",
   "metadata": {},
   "source": [
    "**Author:**\n",
    "[Anthony Strittmatter](http://www.anthonystrittmatter.com)"
   ]
  },
  {
   "cell_type": "markdown",
   "metadata": {},
   "source": [
    "We have data on voter turnout of the 2002 house of representative election. The outcome variable *vote02* is a binary indicator: 1 indicates participation and 0 non-participation in the 2002 election. We want to predict who participates in the election based on the characteristics age, gender, and previous participation in the 1998 and 2000 elections."
   ]
  },
  {
   "cell_type": "markdown",
   "metadata": {},
   "source": [
    "## Load Packages and Data"
   ]
  },
  {
   "cell_type": "code",
   "execution_count": 8,
   "metadata": {},
   "outputs": [
    {
     "name": "stdout",
     "output_type": "stream",
     "text": [
      "[1] \"Packages and data successfully loaded.\"\n"
     ]
    }
   ],
   "source": [
    "########################  Load Packages and Data  ########################\n",
    "\n",
    "# Load packages\n",
    "library(rpart)\n",
    "library(rpart.plot)\n",
    "library(neuralnet)\n",
    "\n",
    "# Load data\n",
    "voters <- read.csv(\"voters02.csv\", sep = \",\")\n",
    "\n",
    "print('Packages and data successfully loaded.')\n",
    "\n",
    "#############################################################################"
   ]
  },
  {
   "cell_type": "markdown",
   "metadata": {},
   "source": [
    "## Inspect Data"
   ]
  },
  {
   "cell_type": "code",
   "execution_count": 9,
   "metadata": {},
   "outputs": [
    {
     "data": {
      "text/html": [
       "<table>\n",
       "<thead><tr><th scope=col>vote02</th><th scope=col>age</th><th scope=col>female</th><th scope=col>vote00</th><th scope=col>vote98</th></tr></thead>\n",
       "<tbody>\n",
       "\t<tr><td>1 </td><td>43</td><td>1 </td><td>1 </td><td>0 </td></tr>\n",
       "\t<tr><td>1 </td><td>33</td><td>1 </td><td>1 </td><td>0 </td></tr>\n",
       "\t<tr><td>1 </td><td>37</td><td>0 </td><td>1 </td><td>0 </td></tr>\n",
       "\t<tr><td>0 </td><td>41</td><td>0 </td><td>1 </td><td>0 </td></tr>\n",
       "\t<tr><td>1 </td><td>45</td><td>0 </td><td>0 </td><td>0 </td></tr>\n",
       "\t<tr><td>0 </td><td>49</td><td>1 </td><td>0 </td><td>0 </td></tr>\n",
       "</tbody>\n",
       "</table>\n"
      ],
      "text/latex": [
       "\\begin{tabular}{r|lllll}\n",
       " vote02 & age & female & vote00 & vote98\\\\\n",
       "\\hline\n",
       "\t 1  & 43 & 1  & 1  & 0 \\\\\n",
       "\t 1  & 33 & 1  & 1  & 0 \\\\\n",
       "\t 1  & 37 & 0  & 1  & 0 \\\\\n",
       "\t 0  & 41 & 0  & 1  & 0 \\\\\n",
       "\t 1  & 45 & 0  & 0  & 0 \\\\\n",
       "\t 0  & 49 & 1  & 0  & 0 \\\\\n",
       "\\end{tabular}\n"
      ],
      "text/markdown": [
       "\n",
       "| vote02 | age | female | vote00 | vote98 |\n",
       "|---|---|---|---|---|\n",
       "| 1  | 43 | 1  | 1  | 0  |\n",
       "| 1  | 33 | 1  | 1  | 0  |\n",
       "| 1  | 37 | 0  | 1  | 0  |\n",
       "| 0  | 41 | 0  | 1  | 0  |\n",
       "| 1  | 45 | 0  | 0  | 0  |\n",
       "| 0  | 49 | 1  | 0  | 0  |\n",
       "\n"
      ],
      "text/plain": [
       "  vote02 age female vote00 vote98\n",
       "1 1      43  1      1      0     \n",
       "2 1      33  1      1      0     \n",
       "3 1      37  0      1      0     \n",
       "4 0      41  0      1      0     \n",
       "5 1      45  0      0      0     \n",
       "6 0      49  1      0      0     "
      ]
     },
     "metadata": {},
     "output_type": "display_data"
    },
    {
     "name": "stdout",
     "output_type": "stream",
     "text": [
      "[1] \"Old data: 3000 observations\"\n"
     ]
    }
   ],
   "source": [
    "########################  Describe Data  ########################\n",
    "\n",
    "# Print first few rows of old data\n",
    "head(voters)\n",
    "\n",
    "# Number of observations\n",
    "print(paste0('Old data: ',nrow(voters),' observations'))\n",
    "\n",
    "######################################################################"
   ]
  },
  {
   "cell_type": "markdown",
   "metadata": {},
   "source": [
    "## Generate Training and Test Sample"
   ]
  },
  {
   "cell_type": "code",
   "execution_count": 10,
   "metadata": {},
   "outputs": [
    {
     "name": "stdout",
     "output_type": "stream",
     "text": [
      "[1] \"Training and test samples created.\"\n"
     ]
    }
   ],
   "source": [
    "########################  Training and Test Samples  ########################\n",
    "\n",
    "set.seed(1001)\n",
    "\n",
    "# Generate variable with the rows in training data\n",
    "size <- floor(0.5 * nrow(voters))\n",
    "training_set <- sample(seq_len(nrow(voters)), size = size)\n",
    "\n",
    "print('Training and test samples created.')\n",
    "\n",
    "#############################################################################"
   ]
  },
  {
   "cell_type": "markdown",
   "metadata": {},
   "source": [
    "## ClassificationTree"
   ]
  },
  {
   "cell_type": "code",
   "execution_count": 15,
   "metadata": {},
   "outputs": [
    {
     "name": "stdout",
     "output_type": "stream",
     "text": [
      "[1] \"Error Rate Tree: 0.252\"\n"
     ]
    },
    {
     "data": {
      "text/html": [
       "<strong>png:</strong> 3"
      ],
      "text/latex": [
       "\\textbf{png:} 3"
      ],
      "text/markdown": [
       "**png:** 3"
      ],
      "text/plain": [
       "png \n",
       "  3 "
      ]
     },
     "metadata": {},
     "output_type": "display_data"
    },
    {
     "data": {
      "image/png": "[encoded data removed]",
      "text/plain": [
       "plot without title"
      ]
     },
     "metadata": {},
     "output_type": "display_data"
    }
   ],
   "source": [
    "######################  Classification Tree  #######################\n",
    "\n",
    "set.seed(27112019)\n",
    "\n",
    "# Classification Tree\n",
    "deep_tree <- rpart(formula = vote02 ~ ., data = voters[training_set,], method = \"class\",\n",
    "                xval = 10, y = TRUE, control = rpart.control(cp = 0.00002, minbucket=15))\n",
    "# Uses Gini index instead of MSE as model accuracy measure\n",
    "\n",
    "# Optimal tree size\n",
    "op.index <- which.min(deep_tree$cptable[, \"xerror\"])\n",
    "\n",
    "## Select the Tree that Minimises CV-MSE\n",
    "cp.vals <- deep_tree$cptable[op.index, \"CP\"]\n",
    "\n",
    "# Prune the deep tree\n",
    "pruned_tree <- prune(deep_tree, cp = cp.vals)\n",
    "\n",
    "## Plot tree structure\n",
    "rpart.plot(pruned_tree,digits=3)\n",
    "\n",
    "# Fitted values\n",
    "predtree <- predict(pruned_tree, newdata= voters)\n",
    "pred_vote_tree <- (predtree[,2] > 0.5 )\n",
    "\n",
    "# Calculate the Error Rate\n",
    "error_rate_tree <- round(mean((voters[-training_set,1] != pred_vote_tree[-training_set])), digits = 4)\n",
    "\n",
    "print(paste0(\"Error Rate Tree: \", error_rate_tree))\n",
    "\n",
    "################################################################"
   ]
  },
  {
   "cell_type": "markdown",
   "metadata": {},
   "source": [
    "## Neural Network"
   ]
  },
  {
   "cell_type": "code",
   "execution_count": 21,
   "metadata": {},
   "outputs": [
    {
     "name": "stdout",
     "output_type": "stream",
     "text": [
      "[1] \"Error Rate Neural Net: 0.2493\"\n"
     ]
    }
   ],
   "source": [
    "########################  Neural Net  #######################\n",
    "\n",
    "set.seed(27112019)\n",
    "\n",
    "replication = 1 # number of replications\n",
    "neurons = c(3)\n",
    "\n",
    "nnet <- neuralnet(formula = vote02 ~., data = voters[training_set,], hidden = neurons, \n",
    "                 act.fct = \"logistic\", rep= replication, linear.output = FALSE)\n",
    "\n",
    "plot(nnet)\n",
    "\n",
    "# Fitted values\n",
    "prednet <- predict(nnet, newdata=voters)\n",
    "pred_vote_net <- (prednet > 0.5 )\n",
    "\n",
    "# Calculate the Error Rate\n",
    "error_rate_net <- round(mean((voters[-training_set,1] != pred_vote_net[-training_set])), digits = 4)\n",
    "\n",
    "print(paste0(\"Error Rate Neural Net: \", error_rate_net))\n",
    "\n",
    "################################################################"
   ]
  },
  {
   "cell_type": "code",
   "execution_count": null,
   "metadata": {},
   "outputs": [],
   "source": []
  }
 ],
 "metadata": {
  "kernelspec": {
   "display_name": "R",
   "language": "R",
   "name": "ir"
  },
  "language_info": {
   "codemirror_mode": "r",
   "file_extension": ".r",
   "mimetype": "text/x-r-source",
   "name": "R",
   "pygments_lexer": "r",
   "version": "3.6.1"
  }
 },
 "nbformat": 4,
 "nbformat_minor": 4
}
