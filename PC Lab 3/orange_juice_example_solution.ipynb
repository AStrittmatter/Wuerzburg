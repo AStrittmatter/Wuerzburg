{
 "cells": [
  {
   "cell_type": "markdown",
   "metadata": {},
   "source": [
    "#  Wholesale Manager"
   ]
  },
  {
   "cell_type": "markdown",
   "metadata": {},
   "source": [
    "**Author:**\n",
    "[Anthony Strittmatter](http://www.anthonystrittmatter.com)"
   ]
  },
  {
   "cell_type": "markdown",
   "metadata": {},
   "source": [
    "You take the role of a wholesale store manager. The data file juice.csv contains orange juice sales (sales) and prices (price) of different grocery stores that you deliver. Your product range contains three different orange juice brands: Tropicana, Minute Maid, and Dominicks. Some stores advertise/feature specific orange juice brands, which is indicated by the dummy variable feat. The data contains also the store ID (id). You deliver new grocery stores. The new stores sent you the file new grocery.csv, which contains the planned prices and advertisements for the different brands. Your job as wholesale manager is to predict the sales of the new grocery stores and deliver the right amount of orange juice."
   ]
  },
  {
   "cell_type": "markdown",
   "metadata": {},
   "source": [
    "## Load Packages and Data"
   ]
  },
  {
   "cell_type": "code",
   "execution_count": 11,
   "metadata": {},
   "outputs": [
    {
     "name": "stdout",
     "output_type": "stream",
     "text": [
      "[1] \"Packages and data successfully loaded.\"\n"
     ]
    }
   ],
   "source": [
    "########################  Load Packages and Data  ########################\n",
    "\n",
    "# Load packages\n",
    "library(rpart)\n",
    "library(rpart.plot)\n",
    "library(grf)\n",
    "library(glmnet)\n",
    "\n",
    "# Load data\n",
    "juice <- read.csv(\"juice.csv\", sep = \",\")\n",
    "new_grocery <- read.csv(\"new_grocery.csv\", sep = \",\")\n",
    "\n",
    "print('Packages and data successfully loaded.')\n",
    "\n",
    "#############################################################################"
   ]
  },
  {
   "cell_type": "markdown",
   "metadata": {},
   "source": [
    "## Inspect Data"
   ]
  },
  {
   "cell_type": "code",
   "execution_count": 2,
   "metadata": {},
   "outputs": [
    {
     "data": {
      "text/html": [
       "<table>\n",
       "<thead><tr><th scope=col>X</th><th scope=col>id</th><th scope=col>sales</th><th scope=col>price</th><th scope=col>brand</th><th scope=col>feat</th></tr></thead>\n",
       "<tbody>\n",
       "\t<tr><td>1          </td><td>1140       </td><td> 11970     </td><td>2.47       </td><td>minute.maid</td><td>0          </td></tr>\n",
       "\t<tr><td>3          </td><td>7182       </td><td> 30205     </td><td>1.57       </td><td>dominicks  </td><td>1          </td></tr>\n",
       "\t<tr><td>4          </td><td>1741       </td><td>  3521     </td><td>2.55       </td><td>minute.maid</td><td>0          </td></tr>\n",
       "\t<tr><td>5          </td><td>1725       </td><td> 11777     </td><td>1.41       </td><td>dominicks  </td><td>0          </td></tr>\n",
       "\t<tr><td>6          </td><td>7565       </td><td>129151     </td><td>2.05       </td><td>minute.maid</td><td>1          </td></tr>\n",
       "\t<tr><td>8          </td><td>5617       </td><td>  7104     </td><td>3.74       </td><td>tropicana  </td><td>0          </td></tr>\n",
       "</tbody>\n",
       "</table>\n"
      ],
      "text/latex": [
       "\\begin{tabular}{r|llllll}\n",
       " X & id & sales & price & brand & feat\\\\\n",
       "\\hline\n",
       "\t 1           & 1140        &  11970      & 2.47        & minute.maid & 0          \\\\\n",
       "\t 3           & 7182        &  30205      & 1.57        & dominicks   & 1          \\\\\n",
       "\t 4           & 1741        &   3521      & 2.55        & minute.maid & 0          \\\\\n",
       "\t 5           & 1725        &  11777      & 1.41        & dominicks   & 0          \\\\\n",
       "\t 6           & 7565        & 129151      & 2.05        & minute.maid & 1          \\\\\n",
       "\t 8           & 5617        &   7104      & 3.74        & tropicana   & 0          \\\\\n",
       "\\end{tabular}\n"
      ],
      "text/markdown": [
       "\n",
       "| X | id | sales | price | brand | feat |\n",
       "|---|---|---|---|---|---|\n",
       "| 1           | 1140        |  11970      | 2.47        | minute.maid | 0           |\n",
       "| 3           | 7182        |  30205      | 1.57        | dominicks   | 1           |\n",
       "| 4           | 1741        |   3521      | 2.55        | minute.maid | 0           |\n",
       "| 5           | 1725        |  11777      | 1.41        | dominicks   | 0           |\n",
       "| 6           | 7565        | 129151      | 2.05        | minute.maid | 1           |\n",
       "| 8           | 5617        |   7104      | 3.74        | tropicana   | 0           |\n",
       "\n"
      ],
      "text/plain": [
       "  X id   sales  price brand       feat\n",
       "1 1 1140  11970 2.47  minute.maid 0   \n",
       "2 3 7182  30205 1.57  dominicks   1   \n",
       "3 4 1741   3521 2.55  minute.maid 0   \n",
       "4 5 1725  11777 1.41  dominicks   0   \n",
       "5 6 7565 129151 2.05  minute.maid 1   \n",
       "6 8 5617   7104 3.74  tropicana   0   "
      ]
     },
     "metadata": {},
     "output_type": "display_data"
    },
    {
     "name": "stdout",
     "output_type": "stream",
     "text": [
      "[1] \"Old data: 9685 observations\"\n"
     ]
    }
   ],
   "source": [
    "########################  Describe Old Data  ########################\n",
    "\n",
    "# Print first few rows of old data\n",
    "head(juice)\n",
    "\n",
    "# Number of observations\n",
    "print(paste0('Old data: ',nrow(juice),' observations'))\n",
    "\n",
    "######################################################################"
   ]
  },
  {
   "cell_type": "code",
   "execution_count": 3,
   "metadata": {},
   "outputs": [
    {
     "data": {
      "text/html": [
       "<table>\n",
       "<thead><tr><th scope=col>X</th><th scope=col>id</th><th scope=col>price</th><th scope=col>brand</th><th scope=col>feat</th></tr></thead>\n",
       "<tbody>\n",
       "\t<tr><td> 2         </td><td>10171      </td><td>1.81       </td><td>dominicks  </td><td>1          </td></tr>\n",
       "\t<tr><td> 7         </td><td> 7489      </td><td>  NA       </td><td>tropicana  </td><td>0          </td></tr>\n",
       "\t<tr><td>10         </td><td> 7559      </td><td>3.29       </td><td>tropicana  </td><td>0          </td></tr>\n",
       "\t<tr><td>11         </td><td> 1236      </td><td>1.77       </td><td>minute.maid</td><td>1          </td></tr>\n",
       "\t<tr><td>16         </td><td> 5361      </td><td>1.53       </td><td>dominicks  </td><td>0          </td></tr>\n",
       "\t<tr><td>17         </td><td>  108      </td><td>1.42       </td><td>dominicks  </td><td>0          </td></tr>\n",
       "</tbody>\n",
       "</table>\n"
      ],
      "text/latex": [
       "\\begin{tabular}{r|lllll}\n",
       " X & id & price & brand & feat\\\\\n",
       "\\hline\n",
       "\t  2          & 10171       & 1.81        & dominicks   & 1          \\\\\n",
       "\t  7          &  7489       &   NA        & tropicana   & 0          \\\\\n",
       "\t 10          &  7559       & 3.29        & tropicana   & 0          \\\\\n",
       "\t 11          &  1236       & 1.77        & minute.maid & 1          \\\\\n",
       "\t 16          &  5361       & 1.53        & dominicks   & 0          \\\\\n",
       "\t 17          &   108       & 1.42        & dominicks   & 0          \\\\\n",
       "\\end{tabular}\n"
      ],
      "text/markdown": [
       "\n",
       "| X | id | price | brand | feat |\n",
       "|---|---|---|---|---|\n",
       "|  2          | 10171       | 1.81        | dominicks   | 1           |\n",
       "|  7          |  7489       |   NA        | tropicana   | 0           |\n",
       "| 10          |  7559       | 3.29        | tropicana   | 0           |\n",
       "| 11          |  1236       | 1.77        | minute.maid | 1           |\n",
       "| 16          |  5361       | 1.53        | dominicks   | 0           |\n",
       "| 17          |   108       | 1.42        | dominicks   | 0           |\n",
       "\n"
      ],
      "text/plain": [
       "  X  id    price brand       feat\n",
       "1  2 10171 1.81  dominicks   1   \n",
       "2  7  7489   NA  tropicana   0   \n",
       "3 10  7559 3.29  tropicana   0   \n",
       "4 11  1236 1.77  minute.maid 1   \n",
       "5 16  5361 1.53  dominicks   0   \n",
       "6 17   108 1.42  dominicks   0   "
      ]
     },
     "metadata": {},
     "output_type": "display_data"
    },
    {
     "name": "stdout",
     "output_type": "stream",
     "text": [
      "[1] \"New data: 3262 observations\"\n"
     ]
    }
   ],
   "source": [
    "########################  Describe Old Data  ########################\n",
    "\n",
    "# Print first few rows of new data\n",
    "head(new_grocery)\n",
    "\n",
    "# Number of observations\n",
    "print(paste0('New data: ',nrow(new_grocery),' observations'))\n",
    "\n",
    "######################################################################"
   ]
  },
  {
   "cell_type": "markdown",
   "metadata": {},
   "source": [
    "## Prepare Data"
   ]
  },
  {
   "cell_type": "code",
   "execution_count": 4,
   "metadata": {},
   "outputs": [
    {
     "data": {
      "text/plain": [
       "     sales            price          missing         minute.maid    \n",
       " Min.   :    63   Min.   :0.000   Min.   :0.00000   Min.   :0.0000  \n",
       " 1st Qu.:  4800   1st Qu.:1.710   1st Qu.:0.00000   1st Qu.:0.0000  \n",
       " Median :  8256   Median :2.120   Median :0.00000   Median :0.0000  \n",
       " Mean   : 17023   Mean   :2.174   Mean   :0.04801   Mean   :0.3284  \n",
       " 3rd Qu.: 16896   3rd Qu.:2.720   3rd Qu.:0.00000   3rd Qu.:1.0000  \n",
       " Max.   :716415   Max.   :4.170   Max.   :1.00000   Max.   :1.0000  \n",
       "   dominicks        tropicana        featured     \n",
       " Min.   :0.0000   Min.   :0.000   Min.   :0.0000  \n",
       " 1st Qu.:0.0000   1st Qu.:0.000   1st Qu.:0.0000  \n",
       " Median :0.0000   Median :0.000   Median :0.0000  \n",
       " Mean   :0.3405   Mean   :0.331   Mean   :0.2355  \n",
       " 3rd Qu.:1.0000   3rd Qu.:1.000   3rd Qu.:0.0000  \n",
       " Max.   :1.0000   Max.   :1.000   Max.   :1.0000  "
      ]
     },
     "metadata": {},
     "output_type": "display_data"
    },
    {
     "name": "stdout",
     "output_type": "stream",
     "text": [
      "[1] \"Data is prepared.\"\n"
     ]
    }
   ],
   "source": [
    "########################  Data Preparation  ########################\n",
    "\n",
    "# Generate dummy for missing prices\n",
    "missing <- (is.na(juice$price) == TRUE)\n",
    "new_missing <- (is.na(new_grocery$price) == TRUE)\n",
    "\n",
    "# Replace missing prices with zero\n",
    "juice$price[is.na(juice$price)] <-0\n",
    "new_grocery$price[is.na(new_grocery$price)] <-0\n",
    "\n",
    "# Generate Dummies for Brands\n",
    "brand_1 <- (juice$brand == \"minute.maid\")\n",
    "brand_2 <- (juice$brand == \"dominicks\")\n",
    "brand_3 <- (juice$brand == \"tropicana\")\n",
    "\n",
    "new_brand_1 <- (new_grocery$brand == \"minute.maid\")\n",
    "new_brand_2 <- (new_grocery$brand == \"dominicks\")\n",
    "new_brand_3 <- (new_grocery$brand == \"tropicana\")\n",
    "\n",
    "# Generate outcome and control variables\n",
    "y <- as.matrix(juice$sales)\n",
    "colnames(y) <- c(\"sales\")\n",
    "\n",
    "x <- as.matrix(cbind(juice$price, missing, brand_1, brand_2, brand_3, juice$feat))\n",
    "colnames(x) <- c(\"price\", \"missing\", \"minute.maid\", \"dominicks\", \"tropicana\", \"featured\")\n",
    "\n",
    "new_x <- as.matrix(cbind(new_grocery$price, new_missing, new_brand_1, new_brand_2, new_brand_3, new_grocery$feat))\n",
    "colnames(new_x) <- c(\"price\", \"missing\", \"minute.maid\", \"dominicks\", \"tropicana\", \"featured\")\n",
    "\n",
    "# Descriptive statistics\n",
    "summary(cbind(y,x))\n",
    "\n",
    "print('Data is prepared.')\n",
    "\n",
    "#############################################################################"
   ]
  },
  {
   "cell_type": "markdown",
   "metadata": {},
   "source": [
    "**$\\Rightarrow$ It is possible to add non-linear and interaction terms.**"
   ]
  },
  {
   "cell_type": "markdown",
   "metadata": {},
   "source": [
    "## Generate Training and Test Sample"
   ]
  },
  {
   "cell_type": "code",
   "execution_count": 5,
   "metadata": {},
   "outputs": [
    {
     "name": "stdout",
     "output_type": "stream",
     "text": [
      "[1] \"Training and test samples created.\"\n"
     ]
    }
   ],
   "source": [
    "########################  Training and Test Samples  ########################\n",
    "\n",
    "set.seed(1001)\n",
    "\n",
    "# Generate variable with the rows in training data\n",
    "size <- floor(0.5 * nrow(juice))\n",
    "training_set <- sample(seq_len(nrow(juice)), size = size)\n",
    "\n",
    "print('Training and test samples created.')\n",
    "\n",
    "#############################################################################"
   ]
  },
  {
   "cell_type": "markdown",
   "metadata": {},
   "source": [
    "## Predict Orange Juice Prices in Training Sample and Assess Model in Test Sample"
   ]
  },
  {
   "cell_type": "markdown",
   "metadata": {},
   "source": [
    "### Lasso, Ridge, Elastic Net"
   ]
  },
  {
   "cell_type": "code",
   "execution_count": 6,
   "metadata": {},
   "outputs": [
    {
     "name": "stdout",
     "output_type": "stream",
     "text": [
      "[1] \"R-squared Penalized Regression: 0.278\"\n"
     ]
    }
   ],
   "source": [
    "########################  LASSO, Ridge, Elastic Net  ##############################\n",
    "\n",
    "set.seed(27112019)\n",
    "penalized.cv <- cv.glmnet(x[training_set,],y[training_set], \n",
    "                      type.measure = \"mse\", family = \"gaussian\", nfolds = 10, alpha = 0.5)\n",
    "\n",
    "\n",
    "# Fitted values\n",
    "pred_penalized <- predict(penalized.cv, newx = x, s = penalized.cv$lambda.min, alpha = 0.5)\n",
    "\n",
    "# Calculate the MSE\n",
    "MSE_penalized <- mean((y[-training_set] - pred_penalized[-training_set])^2)\n",
    "R2_penalized <- round(1- MSE_penalized/var(y[-training_set]), digits = 3)\n",
    "\n",
    "print(paste0(\"R-squared Penalized Regression: \", R2_penalized))\n",
    "                                   \n",
    "################################################################"
   ]
  },
  {
   "cell_type": "markdown",
   "metadata": {},
   "source": [
    "### Tree"
   ]
  },
  {
   "cell_type": "code",
   "execution_count": 7,
   "metadata": {},
   "outputs": [
    {
     "name": "stdout",
     "output_type": "stream",
     "text": [
      "[1] \"R-squared Tree: 0.336\"\n"
     ]
    },
    {
     "data": {
      "image/png": "[encoded data removed]",
      "text/plain": [
       "plot without title"
      ]
     },
     "metadata": {},
     "output_type": "display_data"
    }
   ],
   "source": [
    "######################  Regression Tree  #######################\n",
    "\n",
    "set.seed(27112019)\n",
    "\n",
    "# Prepare data for tree estimator\n",
    "outcome <- y[training_set]\n",
    "tree_data <- data.frame(outcome, x[training_set,])\n",
    "\n",
    "deep_tree <- rpart(formula = outcome ~ ., data = tree_data, method = \"anova\",\n",
    "                y = TRUE, control = rpart.control(xval = 10, cp = 0.00002, minbucket=100))\n",
    "\n",
    "# Optimal tree size\n",
    "op.index <- which.min(deep_tree$cptable[, \"xerror\"])\n",
    "\n",
    "## Select the Tree that Minimises CV-MSE\n",
    "cp.vals <- deep_tree$cptable[op.index, \"CP\"]\n",
    "\n",
    "# Prune the deep tree\n",
    "pruned_tree <- prune(deep_tree, cp = cp.vals)\n",
    "\n",
    "## Plot tree structure\n",
    "rpart.plot(pruned_tree,digits=3)\n",
    "\n",
    "# Fitted values\n",
    "predtree <- predict(pruned_tree, newdata= as.data.frame(x))\n",
    "\n",
    "# Calculate the MSE\n",
    "MSEtree <- mean((y[-training_set] - predtree[-training_set])^2)\n",
    "R2tree <- round(1- MSEtree/var(y[-training_set]), digits = 3)\n",
    "\n",
    "print(paste0(\"R-squared Tree: \", R2tree))\n",
    "\n",
    "################################################################"
   ]
  },
  {
   "cell_type": "markdown",
   "metadata": {},
   "source": [
    "### Random Forest"
   ]
  },
  {
   "cell_type": "code",
   "execution_count": 8,
   "metadata": {},
   "outputs": [
    {
     "name": "stdout",
     "output_type": "stream",
     "text": [
      "[1] \"R-squared Forest: 0.411\"\n"
     ]
    }
   ],
   "source": [
    "########################  Random Forest  #######################\n",
    "\n",
    "set.seed(27112019)\n",
    "\n",
    "rep <- 1000 # number of trees\n",
    "cov <- 2/3 # share of covariates\n",
    "frac <- 1/2 # fraction of subsample\n",
    "min_obs <- 10 # max. size of terminal leaves in trees\n",
    "\n",
    "# Build Forest\n",
    "forest <- regression_forest(x[training_set,], y[training_set,], mtry = floor(cov*ncol(x)), sample.fraction = frac,\n",
    "            num.trees = rep, min.node.size = min_obs, honesty=FALSE)\n",
    "\n",
    "# Fitted values\n",
    "predforest <- predict(forest, newdata=x)$predictions\n",
    "\n",
    "# Calculate MSE\n",
    "MSEforest <- mean((y[-training_set] - predforest[-training_set])^2)\n",
    "R2forest <- round(1- MSEforest/var(y[-training_set]), digits = 3)\n",
    "\n",
    "print(paste0(\"R-squared Forest: \", R2forest))\n",
    "\n",
    "################################################################"
   ]
  },
  {
   "cell_type": "markdown",
   "metadata": {},
   "source": [
    "## Select Favorite Model and Extrapolate to New Data"
   ]
  },
  {
   "cell_type": "code",
   "execution_count": 9,
   "metadata": {},
   "outputs": [
    {
     "name": "stdout",
     "output_type": "stream",
     "text": [
      "[1] \"Out-of-sample sales are predicted.\"\n"
     ]
    }
   ],
   "source": [
    "########################  Out-of-Sample Prediction  #######################\n",
    "\n",
    "# Fitted values\n",
    "# We select Random Forest because highest R-squared\n",
    "new_prediction <- predict(forest, newdata = new_x)$predictions\n",
    "\n",
    "print('Out-of-sample sales are predicted.')\n",
    "\n",
    "###########################################################################"
   ]
  },
  {
   "cell_type": "markdown",
   "metadata": {},
   "source": [
    "## Store Out-of-Sample Predictions"
   ]
  },
  {
   "cell_type": "code",
   "execution_count": 10,
   "metadata": {},
   "outputs": [
    {
     "name": "stdout",
     "output_type": "stream",
     "text": [
      "[1] \"File is stored.\"\n"
     ]
    }
   ],
   "source": [
    "########################  Store Results  #######################\n",
    "\n",
    "id_new <- as.matrix(new_grocery$id)\n",
    "\n",
    "# Replace ??? with your last name\n",
    "write.csv(cbind(id_new,new_prediction),\"strittmatter.csv\")\n",
    "\n",
    "print('File is stored.')\n",
    "\n",
    "################################################################"
   ]
  },
  {
   "cell_type": "code",
   "execution_count": null,
   "metadata": {},
   "outputs": [],
   "source": []
  }
 ],
 "metadata": {
  "kernelspec": {
   "display_name": "R",
   "language": "R",
   "name": "ir"
  },
  "language_info": {
   "codemirror_mode": "r",
   "file_extension": ".r",
   "mimetype": "text/x-r-source",
   "name": "R",
   "pygments_lexer": "r",
   "version": "3.6.1"
  }
 },
 "nbformat": 4,
 "nbformat_minor": 4
}
